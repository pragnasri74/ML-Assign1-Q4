{
  "nbformat": 4,
  "nbformat_minor": 0,
  "metadata": {
    "colab": {
      "provenance": []
    },
    "kernelspec": {
      "name": "python3",
      "display_name": "Python 3"
    },
    "language_info": {
      "name": "python"
    }
  },
  "cells": [
    {
      "cell_type": "code",
      "execution_count": 2,
      "metadata": {
        "colab": {
          "base_uri": "https://localhost:8080/"
        },
        "id": "ZNU-qtPlt13T",
        "outputId": "ca4e9729-52a7-4a1a-d786-2aaccf0e80ab"
      },
      "outputs": [
        {
          "output_type": "stream",
          "name": "stdout",
          "text": [
            "Drive already mounted at /content/drive; to attempt to forcibly remount, call drive.mount(\"/content/drive\", force_remount=True).\n"
          ]
        }
      ],
      "source": [
        "from google.colab import drive\n",
        "drive.mount('/content/drive')"
      ]
    },
    {
      "cell_type": "code",
      "source": [
        "import pandas as pd\n",
        "from sklearn.preprocessing import MinMaxScaler\n",
        "\n",
        "\n",
        "link = \"/content/drive/MyDrive/WineQT.csv\"\n",
        "data = pd.read_csv(link,encoding='latin-1')\n",
        "\n",
        "\n",
        "data['quality'] = data['quality'].apply(lambda x: 0 if x <= 6 else 1)\n",
        "\n",
        "\n",
        "X = data.drop('quality', axis=1)\n",
        "y = data['quality']\n",
        "\n",
        "\n",
        "scaler = MinMaxScaler()\n",
        "X_normalized = pd.DataFrame(scaler.fit_transform(X), columns=X.columns)\n",
        "\n",
        "\n",
        "final_data = pd.concat([X_normalized, y.reset_index(drop=True)], axis=1)\n",
        "\n",
        "final_data.to_csv('winequality_transformed.csv', index=False)\n"
      ],
      "metadata": {
        "id": "t6kzhQ3huxjy"
      },
      "execution_count": 4,
      "outputs": []
    },
    {
      "cell_type": "code",
      "source": [
        "transformed_data = pd.read_csv('winequality_transformed.csv')"
      ],
      "metadata": {
        "id": "-V0xsRfvu017"
      },
      "execution_count": 5,
      "outputs": []
    },
    {
      "cell_type": "code",
      "source": [
        "print(data.head())"
      ],
      "metadata": {
        "colab": {
          "base_uri": "https://localhost:8080/"
        },
        "id": "2Z4rQ0kpu5q3",
        "outputId": "fadc7146-672e-484e-c2e4-da0960306050"
      },
      "execution_count": 6,
      "outputs": [
        {
          "output_type": "stream",
          "name": "stdout",
          "text": [
            "   fixed acidity  volatile acidity  citric acid  residual sugar  chlorides  \\\n",
            "0            7.4              0.70         0.00             1.9      0.076   \n",
            "1            7.8              0.88         0.00             2.6      0.098   \n",
            "2            7.8              0.76         0.04             2.3      0.092   \n",
            "3           11.2              0.28         0.56             1.9      0.075   \n",
            "4            7.4              0.70         0.00             1.9      0.076   \n",
            "\n",
            "   free sulfur dioxide  total sulfur dioxide  density    pH  sulphates  \\\n",
            "0                 11.0                  34.0   0.9978  3.51       0.56   \n",
            "1                 25.0                  67.0   0.9968  3.20       0.68   \n",
            "2                 15.0                  54.0   0.9970  3.26       0.65   \n",
            "3                 17.0                  60.0   0.9980  3.16       0.58   \n",
            "4                 11.0                  34.0   0.9978  3.51       0.56   \n",
            "\n",
            "   alcohol  quality  Id  \n",
            "0      9.4        0   0  \n",
            "1      9.8        0   1  \n",
            "2      9.8        0   2  \n",
            "3      9.8        0   3  \n",
            "4      9.4        0   4  \n"
          ]
        }
      ]
    },
    {
      "cell_type": "code",
      "source": [
        "print(transformed_data.head())"
      ],
      "metadata": {
        "colab": {
          "base_uri": "https://localhost:8080/"
        },
        "id": "zWgb5Jzwu-0N",
        "outputId": "d6bd2e82-ada1-4a8c-bf02-24b5c110bc78"
      },
      "execution_count": 7,
      "outputs": [
        {
          "output_type": "stream",
          "name": "stdout",
          "text": [
            "   fixed acidity  volatile acidity  citric acid  residual sugar  chlorides  \\\n",
            "0       0.247788          0.397260         0.00        0.068493   0.106845   \n",
            "1       0.283186          0.520548         0.00        0.116438   0.143573   \n",
            "2       0.283186          0.438356         0.04        0.095890   0.133556   \n",
            "3       0.584071          0.109589         0.56        0.068493   0.105175   \n",
            "4       0.247788          0.397260         0.00        0.068493   0.106845   \n",
            "\n",
            "   free sulfur dioxide  total sulfur dioxide   density        pH  sulphates  \\\n",
            "0             0.149254              0.098940  0.567548  0.606299   0.137725   \n",
            "1             0.358209              0.215548  0.494126  0.362205   0.209581   \n",
            "2             0.208955              0.169611  0.508811  0.409449   0.191617   \n",
            "3             0.238806              0.190813  0.582232  0.330709   0.149701   \n",
            "4             0.149254              0.098940  0.567548  0.606299   0.137725   \n",
            "\n",
            "    alcohol        Id  quality  \n",
            "0  0.153846  0.000000        0  \n",
            "1  0.215385  0.000626        0  \n",
            "2  0.215385  0.001252        0  \n",
            "3  0.215385  0.001879        0  \n",
            "4  0.153846  0.002505        0  \n"
          ]
        }
      ]
    },
    {
      "cell_type": "code",
      "source": [
        "#To verify unique values in quality column\n",
        "print(transformed_data['quality'].value_counts())\n"
      ],
      "metadata": {
        "colab": {
          "base_uri": "https://localhost:8080/"
        },
        "id": "Kxk2sSO9u_jQ",
        "outputId": "8a6eb4a2-1c39-4a8b-9625-77866f419fbf"
      },
      "execution_count": 8,
      "outputs": [
        {
          "output_type": "stream",
          "name": "stdout",
          "text": [
            "quality\n",
            "0    984\n",
            "1    159\n",
            "Name: count, dtype: int64\n"
          ]
        }
      ]
    },
    {
      "cell_type": "code",
      "source": [
        "#To Check the min and max values for each feature to confirm normalization\n",
        "print(transformed_data.drop('quality', axis=1).min())\n",
        "print(transformed_data.drop('quality', axis=1).max())\n"
      ],
      "metadata": {
        "colab": {
          "base_uri": "https://localhost:8080/"
        },
        "id": "Uru-C5sgvI6M",
        "outputId": "1de5a9a8-ac0f-40d1-ab98-a9da5f19564b"
      },
      "execution_count": 9,
      "outputs": [
        {
          "output_type": "stream",
          "name": "stdout",
          "text": [
            "fixed acidity           0.0\n",
            "volatile acidity        0.0\n",
            "citric acid             0.0\n",
            "residual sugar          0.0\n",
            "chlorides               0.0\n",
            "free sulfur dioxide     0.0\n",
            "total sulfur dioxide    0.0\n",
            "density                 0.0\n",
            "pH                      0.0\n",
            "sulphates               0.0\n",
            "alcohol                 0.0\n",
            "Id                      0.0\n",
            "dtype: float64\n",
            "fixed acidity           1.0\n",
            "volatile acidity        1.0\n",
            "citric acid             1.0\n",
            "residual sugar          1.0\n",
            "chlorides               1.0\n",
            "free sulfur dioxide     1.0\n",
            "total sulfur dioxide    1.0\n",
            "density                 1.0\n",
            "pH                      1.0\n",
            "sulphates               1.0\n",
            "alcohol                 1.0\n",
            "Id                      1.0\n",
            "dtype: float64\n"
          ]
        }
      ]
    }
  ]
}